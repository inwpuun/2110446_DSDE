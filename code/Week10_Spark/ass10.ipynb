{
  "cells": [
    {
      "cell_type": "markdown",
      "metadata": {
        "id": "A7DCesPyjAl3"
      },
      "source": [
        "# Spark Preparation\n",
        "We check if we are in Google Colab.  If this is the case, install all necessary packages.\n",
        "\n",
        "To run spark in Colab, we need to first install all the dependencies in Colab environment i.e. Apache Spark 3.3.2 with hadoop 3.3, Java 8 and Findspark to locate the spark in the system. The tools installation can be carried out inside the Jupyter Notebook of the Colab.\n",
        "Learn more from [A Must-Read Guide on How to Work with PySpark on Google Colab for Data Scientists!](https://www.analyticsvidhya.com/blog/2020/11/a-must-read-guide-on-how-to-work-with-pyspark-on-google-colab-for-data-scientists/)"
      ]
    },
    {
      "cell_type": "code",
      "execution_count": 1,
      "metadata": {
        "id": "rnky5nwojAl5"
      },
      "outputs": [],
      "source": [
        "try:\n",
        "  import google.colab\n",
        "  IN_COLAB = True\n",
        "except:\n",
        "  IN_COLAB = False"
      ]
    },
    {
      "cell_type": "code",
      "execution_count": 8,
      "metadata": {
        "id": "RmkxhhyljAl5"
      },
      "outputs": [],
      "source": [
        "if IN_COLAB:\n",
        "    !apt-get install openjdk-8-jdk-headless -qq > /dev/null\n",
        "    !wget -q https://dlcdn.apache.org/spark/spark-3.5.1/spark-3.5.1-bin-hadoop3.tgz\n",
        "    !tar xf spark-3.5.1-bin-hadoop3.tgz\n",
        "    !mv spark-3.5.1-bin-hadoop3 spark\n",
        "    !pip install -q findspark\n",
        "    import os\n",
        "    os.environ[\"JAVA_HOME\"] = \"/usr/lib/jvm/java-8-openjdk-amd64\"\n",
        "    os.environ[\"SPARK_HOME\"] = \"/content/spark\"\n"
      ]
    },
    {
      "cell_type": "markdown",
      "metadata": {
        "id": "AItrh9NKjAl6"
      },
      "source": [
        "# Start a Local Cluster"
      ]
    },
    {
      "cell_type": "code",
      "source": [
        "!pip install -q pyspark"
      ],
      "metadata": {
        "colab": {
          "base_uri": "https://localhost:8080/"
        },
        "id": "Dw2kcjxMjaTf",
        "outputId": "1c5d6e83-519c-4bd5-a578-773d27089784"
      },
      "execution_count": 4,
      "outputs": [
        {
          "output_type": "stream",
          "name": "stdout",
          "text": [
            "\u001b[2K     \u001b[90m━━━━━━━━━━━━━━━━━━━━━━━━━━━━━━━━━━━━━━━━\u001b[0m \u001b[32m317.0/317.0 MB\u001b[0m \u001b[31m3.1 MB/s\u001b[0m eta \u001b[36m0:00:00\u001b[0m\n",
            "\u001b[?25h  Preparing metadata (setup.py) ... \u001b[?25l\u001b[?25hdone\n",
            "  Building wheel for pyspark (setup.py) ... \u001b[?25l\u001b[?25hdone\n"
          ]
        }
      ]
    },
    {
      "cell_type": "code",
      "source": [
        "from pyspark.sql.functions import col, avg, split, explode"
      ],
      "metadata": {
        "id": "WRBUnKIalLd5"
      },
      "execution_count": 18,
      "outputs": []
    },
    {
      "cell_type": "code",
      "execution_count": 9,
      "metadata": {
        "id": "IKlLsXnXjAl6"
      },
      "outputs": [],
      "source": [
        "import findspark\n",
        "from pyspark.sql import SparkSession\n",
        "\n",
        "findspark.init()\n",
        "spark = SparkSession.builder.master('local').appName('Assignment 10 Spark').getOrCreate()"
      ]
    },
    {
      "cell_type": "markdown",
      "metadata": {
        "id": "M7zAUhYgjAl6"
      },
      "source": [
        "# Spark Assignment\n",
        "\n",
        "Based on the movie review dataset in 'netflix-rotten-tomatoes-metacritic-imdb.csv', answer the below questions.\n",
        "\n",
        "**Note:** do not clean or remove missing data"
      ]
    },
    {
      "cell_type": "code",
      "execution_count": 10,
      "metadata": {
        "id": "GmFmr2anjAl6"
      },
      "outputs": [],
      "source": [
        "df = spark.read.option(\"header\", True).csv('netflix-rotten-tomatoes-metacritic-imdb.csv')"
      ]
    },
    {
      "cell_type": "markdown",
      "metadata": {
        "id": "6V86R4QtjAl6"
      },
      "source": [
        "## What is the maximum and average of the overall hidden gem score?"
      ]
    },
    {
      "cell_type": "code",
      "execution_count": 11,
      "metadata": {
        "colab": {
          "base_uri": "https://localhost:8080/"
        },
        "id": "jI51lNTejAl6",
        "outputId": "6c8f20e2-00e1-4118-cbbb-8bb767812f54"
      },
      "outputs": [
        {
          "output_type": "stream",
          "name": "stdout",
          "text": [
            "maximum of the overall hidden gem score: 9.8\n",
            "average of the overall hidden gem score: 5.937551386501226\n"
          ]
        }
      ],
      "source": [
        "hiddenGemScore = df.select(\"Hidden Gem Score\")\n",
        "\n",
        "print(\"maximum of the overall hidden gem score:\", hiddenGemScore.agg({\"Hidden Gem Score\": \"max\"}).collect()[0][0])\n",
        "print(\"average of the overall hidden gem score:\", hiddenGemScore.agg({\"Hidden Gem Score\": \"avg\"}).collect()[0][0])"
      ]
    },
    {
      "cell_type": "markdown",
      "metadata": {
        "id": "xZguo1JejAl6"
      },
      "source": [
        "## How many movies that are available in Korea?"
      ]
    },
    {
      "cell_type": "code",
      "execution_count": 14,
      "metadata": {
        "colab": {
          "base_uri": "https://localhost:8080/"
        },
        "id": "l5eSiku5jAl6",
        "outputId": "e7b28ea0-39fb-4793-d747-1c24876d3514"
      },
      "outputs": [
        {
          "output_type": "stream",
          "name": "stdout",
          "text": [
            "amount of movies that are available in Korea:  735\n"
          ]
        }
      ],
      "source": [
        "print(\"amount of movies that are available in Korea: \", df.filter(col('Languages').like('%Korean%')).count())"
      ]
    },
    {
      "cell_type": "markdown",
      "metadata": {
        "id": "9yUCv4GKjAl6"
      },
      "source": [
        "## Which director has the highest average hidden gem score?"
      ]
    },
    {
      "cell_type": "code",
      "execution_count": 17,
      "metadata": {
        "colab": {
          "base_uri": "https://localhost:8080/"
        },
        "id": "QqWlwCQmjAl6",
        "outputId": "9d4fec7a-add7-4990-87e2-8e4e3dcfe762"
      },
      "outputs": [
        {
          "output_type": "stream",
          "name": "stdout",
          "text": [
            "Dorin Marcu has the highest average hidden gem score\n"
          ]
        }
      ],
      "source": [
        "print(df.groupBy('Director').agg(avg('Hidden Gem Score').alias('Average Hidden Gem Score')).orderBy('Average Hidden Gem Score', ascending=False).first()['Director'], \"has the highest average hidden gem score\")"
      ]
    },
    {
      "cell_type": "markdown",
      "metadata": {
        "id": "UsLs125kjAl7"
      },
      "source": [
        "## How many genres are there in the dataset?"
      ]
    },
    {
      "cell_type": "code",
      "execution_count": 23,
      "metadata": {
        "colab": {
          "base_uri": "https://localhost:8080/"
        },
        "id": "hwaYFyVHjAl7",
        "outputId": "7b686415-0671-454c-c5b9-5d1dad439630"
      },
      "outputs": [
        {
          "output_type": "stream",
          "name": "stdout",
          "text": [
            "28 genres are there in the dataset\n"
          ]
        }
      ],
      "source": [
        "tmp = df.withColumn('Genre', split(df['Genre'], ', '))\n",
        "\n",
        "print(tmp.select(explode(tmp['Genre']).alias('Genre')).distinct().count(), \"genres are there in the dataset\")"
      ]
    }
  ],
  "metadata": {
    "kernelspec": {
      "display_name": "Python 3 (ipykernel)",
      "language": "python",
      "name": "python3"
    },
    "language_info": {
      "codemirror_mode": {
        "name": "ipython",
        "version": 3
      },
      "file_extension": ".py",
      "mimetype": "text/x-python",
      "name": "python",
      "nbconvert_exporter": "python",
      "pygments_lexer": "ipython3",
      "version": "3.9.13"
    },
    "toc": {
      "base_numbering": 1,
      "nav_menu": {},
      "number_sections": true,
      "sideBar": true,
      "skip_h1_title": false,
      "title_cell": "Table of Contents",
      "title_sidebar": "Contents",
      "toc_cell": false,
      "toc_position": {},
      "toc_section_display": true,
      "toc_window_display": false
    },
    "varInspector": {
      "cols": {
        "lenName": 16,
        "lenType": 16,
        "lenVar": 40
      },
      "kernels_config": {
        "python": {
          "delete_cmd_postfix": "",
          "delete_cmd_prefix": "del ",
          "library": "var_list.py",
          "varRefreshCmd": "print(var_dic_list())"
        },
        "r": {
          "delete_cmd_postfix": ") ",
          "delete_cmd_prefix": "rm(",
          "library": "var_list.r",
          "varRefreshCmd": "cat(var_dic_list()) "
        }
      },
      "types_to_exclude": [
        "module",
        "function",
        "builtin_function_or_method",
        "instance",
        "_Feature"
      ],
      "window_display": false
    },
    "colab": {
      "provenance": []
    }
  },
  "nbformat": 4,
  "nbformat_minor": 0
}