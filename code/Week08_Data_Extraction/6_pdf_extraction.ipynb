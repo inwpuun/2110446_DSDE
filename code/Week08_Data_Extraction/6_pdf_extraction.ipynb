{
 "cells": [
  {
   "cell_type": "markdown",
   "id": "e8561266",
   "metadata": {},
   "source": [
    "# PDF Extraction\n",
    "\n",
    "PyPDF2 is an excellent PDF manipulating package in python.  It provides several capabilities include:\n",
    "- Read a PDF file\n",
    "- Extract text and other information\n",
    "- Manipulate PDF file e.g. rotate, merge, split, etc."
   ]
  },
  {
   "cell_type": "markdown",
   "id": "06e90c46",
   "metadata": {},
   "source": [
    "We must first install the package:\n",
    "```\n",
    "pip install PyPDF2\n",
    "```\n",
    "Once installed, we can import PyPDF2 into our program."
   ]
  },
  {
   "cell_type": "code",
   "execution_count": 2,
   "id": "53c52638",
   "metadata": {},
   "outputs": [],
   "source": [
    "from PyPDF2 import PdfReader"
   ]
  },
  {
   "cell_type": "markdown",
   "id": "e6699de8",
   "metadata": {},
   "source": [
    "Read a sample file, 'ee_status.pdf', then count number of pages, and print out metadata"
   ]
  },
  {
   "cell_type": "code",
   "execution_count": 3,
   "id": "e7b36c62",
   "metadata": {},
   "outputs": [],
   "source": [
    "reader = PdfReader('ee_status.pdf')"
   ]
  },
  {
   "cell_type": "code",
   "execution_count": 4,
   "id": "2b5b8bc9",
   "metadata": {
    "scrolled": true
   },
   "outputs": [
    {
     "data": {
      "text/plain": [
       "20"
      ]
     },
     "execution_count": 4,
     "metadata": {},
     "output_type": "execute_result"
    }
   ],
   "source": [
    "len(reader.pages)"
   ]
  },
  {
   "cell_type": "code",
   "execution_count": 5,
   "id": "3df70309",
   "metadata": {},
   "outputs": [
    {
     "name": "stdout",
     "output_type": "stream",
     "text": [
      "ABC\n",
      "Microsoft® Word 2019\n",
      "3-Heights(TM) PDF Security Shell 4.8.25.2 (http://www.pdf-tools.com) / pdcat (www.pdf-tools.com)\n",
      "None\n",
      "คำนำ\n"
     ]
    }
   ],
   "source": [
    "meta = reader.metadata\n",
    "print(meta.author)\n",
    "print(meta.creator)\n",
    "print(meta.producer)\n",
    "print(meta.subject)\n",
    "print(meta.title)\n"
   ]
  },
  {
   "cell_type": "markdown",
   "id": "ff3bd5f6",
   "metadata": {},
   "source": [
    "Extract text from pages 2"
   ]
  },
  {
   "cell_type": "code",
   "execution_count": 6,
   "id": "c8594956",
   "metadata": {},
   "outputs": [],
   "source": [
    "page = reader.pages[1]"
   ]
  },
  {
   "cell_type": "code",
   "execution_count": 7,
   "id": "dfb762d8",
   "metadata": {},
   "outputs": [
    {
     "name": "stdout",
     "output_type": "stream",
     "text": [
      "คำนำ \n",
      " \n",
      "                รายงานฉบับนี้จัดทำขึ้นเพื่อแสดงผล ความสำเร็จของการจัดทำรายงานสถานการณ์         \n",
      "การจำหน่ายไฟฟ้า และบทวิเคราะห์การใช้ไฟฟ้า ซึ่งเป็นข้อมูลการจำหน่ายไฟฟ้าของการไฟฟ้า          \n",
      "ฝ่ายจำหน่ายต่อภาครัฐ โดยข้อมูลดังกล่าวเป็นข้อมูลที่แสดงถึงค วามต้องการใช้ไฟฟ้า ของผู้ใช้ไฟฟ้า\n",
      "ประเภทต่างๆ อันจะเป็นข้อมูลที่เป็นประโยชน์อย่างยิ่งในการประเมินสถานการณ์ความต้องการใช้ไฟฟ้า\n",
      "ของประเทศเพื่อใช้ในการกำหนดนโยบายไฟฟ้า ซึ่งจะพิจารณาความสำเร็จจากการที่การไฟฟ้า          \n",
      "ฝ่ายจำหน่ายสามารถดำเนินการตามขั้นตอนและระยะเว ลาที่ฝ่ายบริหารกำหนด ไว้อย่างครบถ้วน  \n",
      " \n",
      "    \n",
      "                            \n",
      "                 ฝ่ายเศรษฐกิจพลังไฟฟ้า  \n",
      " \n",
      " \n",
      " \n",
      " \n",
      " \n",
      " \n",
      " \n",
      " \n",
      " \n",
      " \n",
      " \n",
      " \n",
      " \n",
      " \n",
      " \n",
      " \n",
      " \n"
     ]
    }
   ],
   "source": [
    "text = page.extract_text()\n",
    "print(text)"
   ]
  },
  {
   "cell_type": "code",
   "execution_count": null,
   "id": "9c15cecc",
   "metadata": {},
   "outputs": [],
   "source": []
  }
 ],
 "metadata": {
  "kernelspec": {
   "display_name": "Python 3 (ipykernel)",
   "language": "python",
   "name": "python3"
  },
  "language_info": {
   "codemirror_mode": {
    "name": "ipython",
    "version": 3
   },
   "file_extension": ".py",
   "mimetype": "text/x-python",
   "name": "python",
   "nbconvert_exporter": "python",
   "pygments_lexer": "ipython3",
   "version": "3.10.5"
  }
 },
 "nbformat": 4,
 "nbformat_minor": 5
}
