{
 "cells": [
  {
   "cell_type": "markdown",
   "id": "9b9bd4ea",
   "metadata": {},
   "source": [
    "# Excel Data Extraction\n",
    "\n",
    "Pandas provides a **read_excel** method to read an excel file and convert it to dataframe automatically.  It includes several parameters to customize how we read excel e.g. select sheet, rows to be used as column name, skipping rows, etc."
   ]
  },
  {
   "cell_type": "markdown",
   "id": "d4f0d546",
   "metadata": {},
   "source": [
    "First we import pandas and name it *pd*"
   ]
  },
  {
   "cell_type": "code",
   "execution_count": 1,
   "id": "119e4d09",
   "metadata": {},
   "outputs": [],
   "source": [
    "import pandas as pd"
   ]
  },
  {
   "cell_type": "markdown",
   "id": "c39af5aa",
   "metadata": {},
   "source": [
    "Read an excel file without supplying other parameters.  Notice that the column name is incorrect and the first row contains all column names"
   ]
  },
  {
   "cell_type": "code",
   "execution_count": 2,
   "id": "6910376c",
   "metadata": {},
   "outputs": [],
   "source": [
    "df = pd.read_excel('agri_landuse.xlsx')"
   ]
  },
  {
   "cell_type": "code",
   "execution_count": 3,
   "id": "43708479",
   "metadata": {
    "scrolled": true
   },
   "outputs": [
    {
     "data": {
      "text/html": [
       "<div>\n",
       "<style scoped>\n",
       "    .dataframe tbody tr th:only-of-type {\n",
       "        vertical-align: middle;\n",
       "    }\n",
       "\n",
       "    .dataframe tbody tr th {\n",
       "        vertical-align: top;\n",
       "    }\n",
       "\n",
       "    .dataframe thead th {\n",
       "        text-align: right;\n",
       "    }\n",
       "</style>\n",
       "<table border=\"1\" class=\"dataframe\">\n",
       "  <thead>\n",
       "    <tr style=\"text-align: right;\">\n",
       "      <th></th>\n",
       "      <th>การถือครอง และการใช้ประโยชน์ที่ดิน ปีเพาะปลูก 2562/63</th>\n",
       "      <th>Unnamed: 1</th>\n",
       "      <th>Unnamed: 2</th>\n",
       "      <th>Unnamed: 3</th>\n",
       "      <th>Unnamed: 4</th>\n",
       "      <th>Unnamed: 5</th>\n",
       "    </tr>\n",
       "  </thead>\n",
       "  <tbody>\n",
       "    <tr>\n",
       "      <th>0</th>\n",
       "      <td>รายการ</td>\n",
       "      <td>ประเทศ</td>\n",
       "      <td>ภาคเหนือ</td>\n",
       "      <td>ภาคตว.ออกเฉียงเหนือ</td>\n",
       "      <td>ภาคกลาง</td>\n",
       "      <td>ภาคใต้</td>\n",
       "    </tr>\n",
       "    <tr>\n",
       "      <th>1</th>\n",
       "      <td>เนื้อที่รวมทั้งหมดของครัวเรือน (ไร่/ครัวเรือน)</td>\n",
       "      <td>24.15531</td>\n",
       "      <td>25.022066</td>\n",
       "      <td>21.901518</td>\n",
       "      <td>27.194832</td>\n",
       "      <td>19.729259</td>\n",
       "    </tr>\n",
       "    <tr>\n",
       "      <th>2</th>\n",
       "      <td>\"ที่เป็นของตนเอง/ที่มีกรรมสิทธิ์ครอบครองเป็น...</td>\n",
       "      <td>10.103923</td>\n",
       "      <td>8.39825</td>\n",
       "      <td>12.453008</td>\n",
       "      <td>9.115436</td>\n",
       "      <td>10.805322</td>\n",
       "    </tr>\n",
       "  </tbody>\n",
       "</table>\n",
       "</div>"
      ],
      "text/plain": [
       "   การถือครอง และการใช้ประโยชน์ที่ดิน ปีเพาะปลูก 2562/63 Unnamed: 1  \\\n",
       "0                                             รายการ         ประเทศ   \n",
       "1     เนื้อที่รวมทั้งหมดของครัวเรือน (ไร่/ครัวเรือน)       24.15531   \n",
       "2    \"ที่เป็นของตนเอง/ที่มีกรรมสิทธิ์ครอบครองเป็น...      10.103923   \n",
       "\n",
       "  Unnamed: 2            Unnamed: 3 Unnamed: 4 Unnamed: 5  \n",
       "0   ภาคเหนือ  ภาคตว.ออกเฉียงเหนือ     ภาคกลาง    ภาคใต้   \n",
       "1  25.022066             21.901518  27.194832  19.729259  \n",
       "2    8.39825             12.453008   9.115436  10.805322  "
      ]
     },
     "execution_count": 3,
     "metadata": {},
     "output_type": "execute_result"
    }
   ],
   "source": [
    "df.head(3)"
   ]
  },
  {
   "cell_type": "markdown",
   "id": "9ae6b203",
   "metadata": {},
   "source": [
    "We inform *read_excel* that the column name should be taken from the second row of the sheet"
   ]
  },
  {
   "cell_type": "code",
   "execution_count": 4,
   "id": "2fd937a0",
   "metadata": {},
   "outputs": [],
   "source": [
    "df = pd.read_excel('agri_landuse.xlsx', header=1)"
   ]
  },
  {
   "cell_type": "code",
   "execution_count": 5,
   "id": "654dcf87",
   "metadata": {
    "scrolled": true
   },
   "outputs": [
    {
     "data": {
      "text/html": [
       "<div>\n",
       "<style scoped>\n",
       "    .dataframe tbody tr th:only-of-type {\n",
       "        vertical-align: middle;\n",
       "    }\n",
       "\n",
       "    .dataframe tbody tr th {\n",
       "        vertical-align: top;\n",
       "    }\n",
       "\n",
       "    .dataframe thead th {\n",
       "        text-align: right;\n",
       "    }\n",
       "</style>\n",
       "<table border=\"1\" class=\"dataframe\">\n",
       "  <thead>\n",
       "    <tr style=\"text-align: right;\">\n",
       "      <th></th>\n",
       "      <th>รายการ</th>\n",
       "      <th>ประเทศ</th>\n",
       "      <th>ภาคเหนือ</th>\n",
       "      <th>ภาคตว.ออกเฉียงเหนือ</th>\n",
       "      <th>ภาคกลาง</th>\n",
       "      <th>ภาคใต้</th>\n",
       "    </tr>\n",
       "  </thead>\n",
       "  <tbody>\n",
       "    <tr>\n",
       "      <th>0</th>\n",
       "      <td>เนื้อที่รวมทั้งหมดของครัวเรือน (ไร่/ครัวเรือน)</td>\n",
       "      <td>24.155310</td>\n",
       "      <td>25.022066</td>\n",
       "      <td>21.901518</td>\n",
       "      <td>27.194832</td>\n",
       "      <td>19.729259</td>\n",
       "    </tr>\n",
       "    <tr>\n",
       "      <th>1</th>\n",
       "      <td>\"ที่เป็นของตนเอง/ที่มีกรรมสิทธิ์ครอบครองเป็น...</td>\n",
       "      <td>10.103923</td>\n",
       "      <td>8.398250</td>\n",
       "      <td>12.453008</td>\n",
       "      <td>9.115436</td>\n",
       "      <td>10.805322</td>\n",
       "    </tr>\n",
       "    <tr>\n",
       "      <th>2</th>\n",
       "      <td>\"ที่มีสิทธิ์เข้าทำประโยชน์ แต่ไม่มีกรรมสิทธิ...</td>\n",
       "      <td>4.792751</td>\n",
       "      <td>5.116363</td>\n",
       "      <td>5.310703</td>\n",
       "      <td>3.954487</td>\n",
       "      <td>5.332246</td>\n",
       "    </tr>\n",
       "  </tbody>\n",
       "</table>\n",
       "</div>"
      ],
      "text/plain": [
       "                                              รายการ     ประเทศ   ภาคเหนือ  \\\n",
       "0     เนื้อที่รวมทั้งหมดของครัวเรือน (ไร่/ครัวเรือน)  24.155310  25.022066   \n",
       "1    \"ที่เป็นของตนเอง/ที่มีกรรมสิทธิ์ครอบครองเป็น...  10.103923   8.398250   \n",
       "2    \"ที่มีสิทธิ์เข้าทำประโยชน์ แต่ไม่มีกรรมสิทธิ...   4.792751   5.116363   \n",
       "\n",
       "   ภาคตว.ออกเฉียงเหนือ     ภาคกลาง    ภาคใต้   \n",
       "0             21.901518  27.194832  19.729259  \n",
       "1             12.453008   9.115436  10.805322  \n",
       "2              5.310703   3.954487   5.332246  "
      ]
     },
     "execution_count": 5,
     "metadata": {},
     "output_type": "execute_result"
    }
   ],
   "source": [
    "df.head(3)"
   ]
  },
  {
   "cell_type": "markdown",
   "id": "4d9bae7b",
   "metadata": {},
   "source": [
    "We can choose other sheets in the same file.  Note that sheet_name=0 indicates the first sheet, which is default"
   ]
  },
  {
   "cell_type": "code",
   "execution_count": 6,
   "id": "8de0d2b7",
   "metadata": {},
   "outputs": [],
   "source": [
    "df = pd.read_excel('agri_landuse.xlsx', sheet_name=1, header=1)"
   ]
  },
  {
   "cell_type": "code",
   "execution_count": 7,
   "id": "6e0a30e8",
   "metadata": {},
   "outputs": [
    {
     "data": {
      "text/html": [
       "<div>\n",
       "<style scoped>\n",
       "    .dataframe tbody tr th:only-of-type {\n",
       "        vertical-align: middle;\n",
       "    }\n",
       "\n",
       "    .dataframe tbody tr th {\n",
       "        vertical-align: top;\n",
       "    }\n",
       "\n",
       "    .dataframe thead th {\n",
       "        text-align: right;\n",
       "    }\n",
       "</style>\n",
       "<table border=\"1\" class=\"dataframe\">\n",
       "  <thead>\n",
       "    <tr style=\"text-align: right;\">\n",
       "      <th></th>\n",
       "      <th>รายการ</th>\n",
       "      <th>เชียงราย</th>\n",
       "      <th>พะเยา</th>\n",
       "      <th>ลำปาง</th>\n",
       "      <th>ลำพูน</th>\n",
       "      <th>เชียงใหม่</th>\n",
       "      <th>แม่ฮ่องสอน</th>\n",
       "      <th>ตาก</th>\n",
       "      <th>กำแพงเพชร</th>\n",
       "      <th>สุโขทัย</th>\n",
       "      <th>...</th>\n",
       "      <th>ระนอง</th>\n",
       "      <th>สุราษฎร์ธานี</th>\n",
       "      <th>พังงา</th>\n",
       "      <th>ภูเก็ต</th>\n",
       "      <th>กระบี่</th>\n",
       "      <th>ตรัง</th>\n",
       "      <th>นครศรีธรรมราช</th>\n",
       "      <th>พัทลุง</th>\n",
       "      <th>สงขลา</th>\n",
       "      <th>สตูล</th>\n",
       "    </tr>\n",
       "  </thead>\n",
       "  <tbody>\n",
       "    <tr>\n",
       "      <th>0</th>\n",
       "      <td>เนื้อที่รวมทั้งหมดของครัวเรือน (ไร่/ครัวเรือน)</td>\n",
       "      <td>17.948758</td>\n",
       "      <td>16.188741</td>\n",
       "      <td>16.189016</td>\n",
       "      <td>9.872334</td>\n",
       "      <td>11.376040</td>\n",
       "      <td>11.926803</td>\n",
       "      <td>23.022879</td>\n",
       "      <td>37.137609</td>\n",
       "      <td>35.168335</td>\n",
       "      <td>...</td>\n",
       "      <td>19.290953</td>\n",
       "      <td>31.910710</td>\n",
       "      <td>20.195543</td>\n",
       "      <td>16.407552</td>\n",
       "      <td>29.444500</td>\n",
       "      <td>15.243213</td>\n",
       "      <td>17.627051</td>\n",
       "      <td>12.540044</td>\n",
       "      <td>20.021143</td>\n",
       "      <td>12.689705</td>\n",
       "    </tr>\n",
       "    <tr>\n",
       "      <th>1</th>\n",
       "      <td>\"ที่เป็นของตนเอง/ที่มีกรรมสิทธิ์ครอบครองเป็น...</td>\n",
       "      <td>7.058751</td>\n",
       "      <td>7.210534</td>\n",
       "      <td>5.580289</td>\n",
       "      <td>4.725276</td>\n",
       "      <td>3.255079</td>\n",
       "      <td>0.608207</td>\n",
       "      <td>5.622506</td>\n",
       "      <td>11.748964</td>\n",
       "      <td>13.536216</td>\n",
       "      <td>...</td>\n",
       "      <td>9.465070</td>\n",
       "      <td>12.351204</td>\n",
       "      <td>10.116957</td>\n",
       "      <td>15.688802</td>\n",
       "      <td>11.306260</td>\n",
       "      <td>9.119384</td>\n",
       "      <td>10.533855</td>\n",
       "      <td>8.894163</td>\n",
       "      <td>11.699580</td>\n",
       "      <td>7.148202</td>\n",
       "    </tr>\n",
       "    <tr>\n",
       "      <th>2</th>\n",
       "      <td>\"ที่มีสิทธิ์เข้าทำประโยชน์ แต่ไม่มีกรรมสิทธิ...</td>\n",
       "      <td>2.781269</td>\n",
       "      <td>2.095081</td>\n",
       "      <td>1.805161</td>\n",
       "      <td>1.743252</td>\n",
       "      <td>1.237600</td>\n",
       "      <td>1.014748</td>\n",
       "      <td>5.885071</td>\n",
       "      <td>13.408903</td>\n",
       "      <td>4.832710</td>\n",
       "      <td>...</td>\n",
       "      <td>4.303533</td>\n",
       "      <td>12.738170</td>\n",
       "      <td>8.641947</td>\n",
       "      <td>0.000000</td>\n",
       "      <td>13.965048</td>\n",
       "      <td>4.588109</td>\n",
       "      <td>3.984584</td>\n",
       "      <td>0.819274</td>\n",
       "      <td>3.772456</td>\n",
       "      <td>1.398091</td>\n",
       "    </tr>\n",
       "  </tbody>\n",
       "</table>\n",
       "<p>3 rows × 75 columns</p>\n",
       "</div>"
      ],
      "text/plain": [
       "                                              รายการ   เชียงราย      พะเยา  \\\n",
       "0     เนื้อที่รวมทั้งหมดของครัวเรือน (ไร่/ครัวเรือน)  17.948758  16.188741   \n",
       "1    \"ที่เป็นของตนเอง/ที่มีกรรมสิทธิ์ครอบครองเป็น...   7.058751   7.210534   \n",
       "2    \"ที่มีสิทธิ์เข้าทำประโยชน์ แต่ไม่มีกรรมสิทธิ...   2.781269   2.095081   \n",
       "\n",
       "       ลำปาง     ลำพูน  เชียงใหม่  แม่ฮ่องสอน        ตาก  กำแพงเพชร  \\\n",
       "0  16.189016  9.872334  11.376040   11.926803  23.022879  37.137609   \n",
       "1   5.580289  4.725276   3.255079    0.608207   5.622506  11.748964   \n",
       "2   1.805161  1.743252   1.237600    1.014748   5.885071  13.408903   \n",
       "\n",
       "     สุโขทัย  ...      ระนอง  สุราษฎร์ธานี      พังงา     ภูเก็ต     กระบี่  \\\n",
       "0  35.168335  ...  19.290953     31.910710  20.195543  16.407552  29.444500   \n",
       "1  13.536216  ...   9.465070     12.351204  10.116957  15.688802  11.306260   \n",
       "2   4.832710  ...   4.303533     12.738170   8.641947   0.000000  13.965048   \n",
       "\n",
       "        ตรัง  นครศรีธรรมราช     พัทลุง      สงขลา       สตูล  \n",
       "0  15.243213      17.627051  12.540044  20.021143  12.689705  \n",
       "1   9.119384      10.533855   8.894163  11.699580   7.148202  \n",
       "2   4.588109       3.984584   0.819274   3.772456   1.398091  \n",
       "\n",
       "[3 rows x 75 columns]"
      ]
     },
     "execution_count": 7,
     "metadata": {},
     "output_type": "execute_result"
    }
   ],
   "source": [
    "df.head(3)"
   ]
  },
  {
   "cell_type": "code",
   "execution_count": null,
   "id": "e5d9cfaa",
   "metadata": {},
   "outputs": [],
   "source": []
  }
 ],
 "metadata": {
  "kernelspec": {
   "display_name": "Python 3 (ipykernel)",
   "language": "python",
   "name": "python3"
  },
  "language_info": {
   "codemirror_mode": {
    "name": "ipython",
    "version": 3
   },
   "file_extension": ".py",
   "mimetype": "text/x-python",
   "name": "python",
   "nbconvert_exporter": "python",
   "pygments_lexer": "ipython3",
   "version": "3.12.2"
  }
 },
 "nbformat": 4,
 "nbformat_minor": 5
}
