{
  "cells": [
    {
      "cell_type": "markdown",
      "metadata": {
        "id": "lbIX1pgX6AVd"
      },
      "source": [
        "# Assignment: Extracting Static WebPage\n",
        "\n",
        "Extract information about “วันพระ” for 3 years from:\n",
        "- https://www.myhora.com/ปฏิทิน/วันพระ-พ.ศ.2565.aspx\n",
        "- https://www.myhora.com/ปฏิทิน/วันพระ-พ.ศ.2566.aspx\n",
        "- https://www.myhora.com/ปฏิทิน/วันพระ-พ.ศ.2567.aspx\n"
      ]
    },
    {
      "cell_type": "markdown",
      "metadata": {
        "id": "nVyJgdFg6AVg"
      },
      "source": [
        "Note that you can use dateparse package to parse Thai date.  First, we will have to install the package, this is for Google Colab users.  Otherwise, installing via command line is recommended (pip or conda)."
      ]
    },
    {
      "cell_type": "code",
      "execution_count": 1,
      "metadata": {
        "scrolled": true,
        "id": "P6ssko2s6AVg",
        "outputId": "73f257fc-4d05-4805-fd31-d66f661c40ee",
        "colab": {
          "base_uri": "https://localhost:8080/"
        }
      },
      "outputs": [
        {
          "output_type": "stream",
          "name": "stdout",
          "text": [
            "Collecting dateparser\n",
            "  Downloading dateparser-1.2.0-py2.py3-none-any.whl (294 kB)\n",
            "\u001b[2K     \u001b[90m━━━━━━━━━━━━━━━━━━━━━━━━━━━━━━━━━━━━━━━━\u001b[0m \u001b[32m295.0/295.0 kB\u001b[0m \u001b[31m2.2 MB/s\u001b[0m eta \u001b[36m0:00:00\u001b[0m\n",
            "\u001b[?25hRequirement already satisfied: python-dateutil in /usr/local/lib/python3.10/dist-packages (from dateparser) (2.8.2)\n",
            "Requirement already satisfied: pytz in /usr/local/lib/python3.10/dist-packages (from dateparser) (2023.4)\n",
            "Requirement already satisfied: regex!=2019.02.19,!=2021.8.27 in /usr/local/lib/python3.10/dist-packages (from dateparser) (2023.12.25)\n",
            "Requirement already satisfied: tzlocal in /usr/local/lib/python3.10/dist-packages (from dateparser) (5.2)\n",
            "Requirement already satisfied: six>=1.5 in /usr/local/lib/python3.10/dist-packages (from python-dateutil->dateparser) (1.16.0)\n",
            "Installing collected packages: dateparser\n",
            "Successfully installed dateparser-1.2.0\n"
          ]
        }
      ],
      "source": [
        "import sys\n",
        "IN_COLAB = 'google.colab' in sys.modules\n",
        "if IN_COLAB:\n",
        "    %pip install dateparser"
      ]
    },
    {
      "cell_type": "code",
      "execution_count": 2,
      "metadata": {
        "id": "_OPGgM1g6AVh"
      },
      "outputs": [],
      "source": [
        "import dateparser"
      ]
    },
    {
      "cell_type": "markdown",
      "metadata": {
        "id": "eWJexfIm6AVh"
      },
      "source": [
        "To convert from thai text date string, we will use the parse method.  Note that the parse method assumes the BC year, not BE.  Thus, we will have to subtract 543 from the year.  In addition, weekday() returns day of week with 0=Monday, ..., 6=Sunday."
      ]
    },
    {
      "cell_type": "code",
      "execution_count": 3,
      "metadata": {
        "id": "Lj_ewtC56AVh",
        "outputId": "6edb0b26-79de-4f2e-9f58-8cac930aeae3",
        "colab": {
          "base_uri": "https://localhost:8080/"
        }
      },
      "outputs": [
        {
          "output_type": "stream",
          "name": "stdout",
          "text": [
            "2563-01-17 00:00:00\n",
            "0\n",
            "2020-01-17 00:00:00\n",
            "4\n"
          ]
        }
      ],
      "source": [
        "dt = dateparser.parse('วันศุกร์ที่ 17 มกราคม 2563')\n",
        "\n",
        "# this will print out weekday == 0 (Monday)\n",
        "print(dt)\n",
        "print(dt.weekday())\n",
        "\n",
        "# this will print out weekday == 4 (Friday)\n",
        "dt = dt.replace(year=dt.year-543)\n",
        "print(dt)\n",
        "print(dt.weekday())"
      ]
    },
    {
      "cell_type": "code",
      "execution_count": 4,
      "metadata": {
        "id": "r25pVM_x6AVi",
        "outputId": "eeb78cb2-c12a-49bc-d072-26e44021e3e5",
        "colab": {
          "base_uri": "https://localhost:8080/"
        }
      },
      "outputs": [
        {
          "output_type": "stream",
          "name": "stdout",
          "text": [
            "2021-09-21 00:00:00\n",
            "1\n"
          ]
        }
      ],
      "source": [
        "dt = dateparser.parse('วันเสาร์ที่ 21 กันยายน 2564')\n",
        "dt = dt.replace(year=dt.year-543)\n",
        "print(dt)\n",
        "print(dt.weekday())"
      ]
    },
    {
      "cell_type": "markdown",
      "metadata": {
        "id": "FdgXi_ZX6AVi"
      },
      "source": [
        "Count the distribution of number of week days that are “วันพระ” for all three years and answer the following questions:"
      ]
    },
    {
      "cell_type": "markdown",
      "metadata": {
        "id": "_ns5Eo-96AVi"
      },
      "source": [
        "## How many วันพระ in total (of 3 years)?"
      ]
    },
    {
      "cell_type": "code",
      "source": [
        "praday2565 = \"https://www.myhora.com/ปฏิทิน/วันพระ-พ.ศ.2565.aspx\"\n",
        "praday2566 = \"https://www.myhora.com/ปฏิทิน/วันพระ-พ.ศ.2566.aspx\"\n",
        "praday2567 = \"https://www.myhora.com/ปฏิทิน/วันพระ-พ.ศ.2567.aspx\""
      ],
      "metadata": {
        "id": "OKbaYxAG6OOd"
      },
      "execution_count": 5,
      "outputs": []
    },
    {
      "cell_type": "code",
      "source": [
        "import requests\n",
        "from bs4 import BeautifulSoup"
      ],
      "metadata": {
        "id": "L8BkOTgx8vvA"
      },
      "execution_count": 6,
      "outputs": []
    },
    {
      "cell_type": "code",
      "source": [
        "days=[]\n",
        "\n",
        "def fetchData(api) :\n",
        "  res = requests.get(api)\n",
        "  if res.status_code == 200:\n",
        "      s = BeautifulSoup(res.text, 'html.parser')\n",
        "      tmp = s.find_all(class_='bud-day')\n",
        "      if tmp:\n",
        "          for x in tmp:\n",
        "            a = x.find(class_='bud-day-col')\n",
        "            if a:\n",
        "              days.append(a.get_text(strip=True))"
      ],
      "metadata": {
        "id": "WjiNa1s_8yAi"
      },
      "execution_count": 7,
      "outputs": []
    },
    {
      "cell_type": "code",
      "source": [
        "fetchData(praday2565)\n",
        "fetchData(praday2566)\n",
        "fetchData(praday2567)"
      ],
      "metadata": {
        "id": "rX4mUrSj8ze1"
      },
      "execution_count": 8,
      "outputs": []
    },
    {
      "cell_type": "code",
      "execution_count": 10,
      "metadata": {
        "id": "bHTO1nAy6AVi",
        "outputId": "ee48e509-89b5-4773-9d54-acccfa9fa421",
        "colab": {
          "base_uri": "https://localhost:8080/"
        }
      },
      "outputs": [
        {
          "output_type": "stream",
          "name": "stdout",
          "text": [
            "152\n"
          ]
        }
      ],
      "source": [
        "result=[]\n",
        "for day in days:\n",
        "  d = dateparser.parse(day)\n",
        "  d = d.replace(year=d.year-543)\n",
        "  result.append(d)\n",
        "\n",
        "print(len(set(result)))"
      ]
    },
    {
      "cell_type": "markdown",
      "metadata": {
        "id": "uLQj7AJx6AVi"
      },
      "source": [
        "## How many days in total (of 3 years) that วันพระ is Monday?"
      ]
    },
    {
      "cell_type": "code",
      "execution_count": 12,
      "metadata": {
        "id": "DKDKMa956AVj",
        "outputId": "76d7d5a8-c743-47d3-9426-97a435b98f53",
        "colab": {
          "base_uri": "https://localhost:8080/"
        }
      },
      "outputs": [
        {
          "output_type": "stream",
          "name": "stdout",
          "text": [
            "21\n"
          ]
        }
      ],
      "source": [
        "weekdays = {}\n",
        "for day in result:\n",
        "    weekday = day.weekday()\n",
        "    if weekday not in weekdays:\n",
        "        weekdays[weekday] = 0\n",
        "    weekdays[weekday] += 1\n",
        "\n",
        "print(weekdays[0])"
      ]
    },
    {
      "cell_type": "markdown",
      "metadata": {
        "id": "cSGqji1E6AVj"
      },
      "source": [
        "## Which day of the week that has the minimum number of วันพระ?"
      ]
    },
    {
      "cell_type": "code",
      "source": [
        "num_to_weekdays = {\n",
        "    0: 'Monday',\n",
        "    1: 'Tuesday',\n",
        "    2: 'Wednesday',\n",
        "    3: 'thursday',\n",
        "    4: 'Friday',\n",
        "    5: 'Satuaday',\n",
        "    6: 'Sunday'\n",
        "}"
      ],
      "metadata": {
        "id": "siCj_uOh-kXa"
      },
      "execution_count": 16,
      "outputs": []
    },
    {
      "cell_type": "code",
      "execution_count": 17,
      "metadata": {
        "id": "w-M0I0906AVj",
        "outputId": "71472dfe-ca32-4bb5-874f-a95fc086ebd8",
        "colab": {
          "base_uri": "https://localhost:8080/"
        }
      },
      "outputs": [
        {
          "output_type": "stream",
          "name": "stdout",
          "text": [
            "Tuesday\n"
          ]
        }
      ],
      "source": [
        "min_value = 9999\n",
        "min_day = 0\n",
        "for x in weekdays :\n",
        "  if weekdays[x] < min_value :\n",
        "    min_value = weekdays[x]\n",
        "    min_day = x\n",
        "print(num_to_weekdays[min_day])"
      ]
    },
    {
      "cell_type": "markdown",
      "metadata": {
        "id": "Pb92u2J86AVj"
      },
      "source": [
        "## Which day of the week that has the maximum number of วันพระ?"
      ]
    },
    {
      "cell_type": "code",
      "execution_count": 21,
      "metadata": {
        "id": "J2HVBwSp6AVj",
        "outputId": "6d27fbc6-c74c-42cd-987c-dbe754bd50ee",
        "colab": {
          "base_uri": "https://localhost:8080/"
        }
      },
      "outputs": [
        {
          "output_type": "stream",
          "name": "stdout",
          "text": [
            "Sunday\n"
          ]
        }
      ],
      "source": [
        "max_value = 0\n",
        "max_day = 0\n",
        "for x in weekdays :\n",
        "  if weekdays[x] > max_value :\n",
        "    max_value = weekdays[x]\n",
        "    max_day = x\n",
        "print(num_to_weekdays[max_day])"
      ]
    }
  ],
  "metadata": {
    "kernelspec": {
      "display_name": "Python 3 (ipykernel)",
      "language": "python",
      "name": "python3"
    },
    "language_info": {
      "codemirror_mode": {
        "name": "ipython",
        "version": 3
      },
      "file_extension": ".py",
      "mimetype": "text/x-python",
      "name": "python",
      "nbconvert_exporter": "python",
      "pygments_lexer": "ipython3",
      "version": "3.11.4"
    },
    "toc": {
      "base_numbering": 1,
      "nav_menu": {},
      "number_sections": true,
      "sideBar": true,
      "skip_h1_title": false,
      "title_cell": "Table of Contents",
      "title_sidebar": "Contents",
      "toc_cell": false,
      "toc_position": {},
      "toc_section_display": true,
      "toc_window_display": false
    },
    "varInspector": {
      "cols": {
        "lenName": 16,
        "lenType": 16,
        "lenVar": 40
      },
      "kernels_config": {
        "python": {
          "delete_cmd_postfix": "",
          "delete_cmd_prefix": "del ",
          "library": "var_list.py",
          "varRefreshCmd": "print(var_dic_list())"
        },
        "r": {
          "delete_cmd_postfix": ") ",
          "delete_cmd_prefix": "rm(",
          "library": "var_list.r",
          "varRefreshCmd": "cat(var_dic_list()) "
        }
      },
      "types_to_exclude": [
        "module",
        "function",
        "builtin_function_or_method",
        "instance",
        "_Feature"
      ],
      "window_display": false
    },
    "colab": {
      "provenance": []
    }
  },
  "nbformat": 4,
  "nbformat_minor": 0
}