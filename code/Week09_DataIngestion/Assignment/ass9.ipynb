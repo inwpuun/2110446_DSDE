{
  "cells": [
    {
      "cell_type": "code",
      "source": [
        "%pip install avro==1.10.0 kafka-python\n",
        "%pip install kafka-python"
      ],
      "metadata": {
        "colab": {
          "base_uri": "https://localhost:8080/"
        },
        "id": "SczRujNrrlvi",
        "outputId": "7ade5d7c-2cad-4054-91d4-649a67c852c0"
      },
      "id": "SczRujNrrlvi",
      "execution_count": 1,
      "outputs": [
        {
          "output_type": "stream",
          "name": "stdout",
          "text": [
            "Collecting avro==1.10.0\n",
            "  Downloading avro-1.10.0.tar.gz (67 kB)\n",
            "\u001b[2K     \u001b[90m━━━━━━━━━━━━━━━━━━━━━━━━━━━━━━━━━━━━━━━━\u001b[0m \u001b[32m67.8/67.8 kB\u001b[0m \u001b[31m1.2 MB/s\u001b[0m eta \u001b[36m0:00:00\u001b[0m\n",
            "\u001b[?25h  Preparing metadata (setup.py) ... \u001b[?25l\u001b[?25hdone\n",
            "Collecting kafka-python\n",
            "  Downloading kafka_python-2.0.2-py2.py3-none-any.whl (246 kB)\n",
            "\u001b[2K     \u001b[90m━━━━━━━━━━━━━━━━━━━━━━━━━━━━━━━━━━━━━━━━\u001b[0m \u001b[32m246.5/246.5 kB\u001b[0m \u001b[31m4.7 MB/s\u001b[0m eta \u001b[36m0:00:00\u001b[0m\n",
            "\u001b[?25hBuilding wheels for collected packages: avro\n",
            "  Building wheel for avro (setup.py) ... \u001b[?25l\u001b[?25hdone\n",
            "  Created wheel for avro: filename=avro-1.10.0-py3-none-any.whl size=96719 sha256=e224469c933c853f57c189f63dfae5c0cc8e5ce386a39b170c9ce96b0258a9e8\n",
            "  Stored in directory: /root/.cache/pip/wheels/b5/45/02/59d22f799de5f011ddd515bf6e2e3b8c929ef56129008fe2b8\n",
            "Successfully built avro\n",
            "Installing collected packages: kafka-python, avro\n",
            "Successfully installed avro-1.10.0 kafka-python-2.0.2\n",
            "Requirement already satisfied: kafka-python in /usr/local/lib/python3.10/dist-packages (2.0.2)\n"
          ]
        }
      ]
    },
    {
      "cell_type": "code",
      "execution_count": 2,
      "id": "3d144bf2",
      "metadata": {
        "id": "3d144bf2"
      },
      "outputs": [],
      "source": [
        "# import required libraries\n",
        "from kafka import KafkaConsumer, KafkaProducer\n",
        "import avro.schema\n",
        "import avro.io\n",
        "import io\n",
        "import hashlib, json"
      ]
    },
    {
      "cell_type": "code",
      "execution_count": 3,
      "id": "6234ffde",
      "metadata": {
        "id": "6234ffde"
      },
      "outputs": [],
      "source": [
        "def serialize(schema, obj):\n",
        "    bytes_writer = io.BytesIO()\n",
        "    encoder = avro.io.BinaryEncoder(bytes_writer)\n",
        "    writer = avro.io.DatumWriter(schema)\n",
        "    writer.write(obj, encoder)\n",
        "    return bytes_writer.getvalue()"
      ]
    },
    {
      "cell_type": "code",
      "execution_count": 4,
      "id": "5e1434bb",
      "metadata": {
        "id": "5e1434bb"
      },
      "outputs": [],
      "source": [
        "def deserialize(schema, raw_bytes):\n",
        "    bytes_reader = io.BytesIO(raw_bytes)\n",
        "    decoder = avro.io.BinaryDecoder(bytes_reader)\n",
        "    reader = avro.io.DatumReader(schema)\n",
        "    return reader.read(decoder)"
      ]
    },
    {
      "cell_type": "code",
      "execution_count": 5,
      "id": "0e92e3e9",
      "metadata": {
        "id": "0e92e3e9"
      },
      "outputs": [],
      "source": [
        "schema_file = 'transaction.avsc'\n",
        "txschema = avro.schema.parse(open(schema_file).read())\n",
        "schema_file = 'submit.avsc'\n",
        "submitschema = avro.schema.parse(open(schema_file).read())\n",
        "schema_file = 'result.avsc'\n",
        "resultschema = avro.schema.parse(open(schema_file).read())"
      ]
    },
    {
      "cell_type": "code",
      "execution_count": 8,
      "id": "bcb5dc21",
      "metadata": {
        "id": "bcb5dc21"
      },
      "outputs": [],
      "source": [
        "# Connect to kafka broker running in your local host (docker). Change this to your kafka broker if needed\n",
        "kafka_broker = 'lab.aimet.tech:9092'"
      ]
    },
    {
      "cell_type": "code",
      "execution_count": 9,
      "id": "0e05b4b0",
      "metadata": {
        "id": "0e05b4b0"
      },
      "outputs": [],
      "source": [
        "producer = KafkaProducer(bootstrap_servers=[kafka_broker])"
      ]
    },
    {
      "cell_type": "code",
      "execution_count": 10,
      "id": "4a2555a3",
      "metadata": {
        "id": "4a2555a3",
        "colab": {
          "base_uri": "https://localhost:8080/"
        },
        "outputId": "af2d1740-d5f8-4b1a-a7f0-f7ad5ab2e326"
      },
      "outputs": [
        {
          "output_type": "stream",
          "name": "stderr",
          "text": [
            "WARNING:kafka.coordinator.consumer:group_id is None: disabling auto-commit.\n",
            "WARNING:kafka.coordinator.consumer:group_id is None: disabling auto-commit.\n"
          ]
        }
      ],
      "source": [
        "txconsumer = KafkaConsumer(\n",
        "    'transaction',\n",
        "     bootstrap_servers=[kafka_broker],\n",
        "     enable_auto_commit=True,\n",
        "     value_deserializer=lambda x: deserialize(txschema, x))\n",
        "resultconsumer = KafkaConsumer(\n",
        "    'result',\n",
        "     bootstrap_servers=[kafka_broker],\n",
        "     enable_auto_commit=True,\n",
        "     value_deserializer=lambda x: deserialize(resultschema, x))"
      ]
    },
    {
      "cell_type": "code",
      "execution_count": 11,
      "id": "fe697a88",
      "metadata": {
        "id": "fe697a88"
      },
      "outputs": [],
      "source": [
        "def gen_signature(txid, payer, payee, amount, token):\n",
        "    o = {'txid': txid, 'payer': payer, 'payee': payee, 'amount': amount, 'token': token}\n",
        "    return hashlib.md5(json.dumps(o, sort_keys=True).encode('utf-8')).hexdigest()"
      ]
    },
    {
      "cell_type": "code",
      "execution_count": 13,
      "id": "b9915bcc",
      "metadata": {
        "id": "b9915bcc"
      },
      "outputs": [],
      "source": [
        "VID = 'V010948'\n",
        "TOKEN = '2a7c55cfc9eb016fed2f7a38edc08d5e'"
      ]
    },
    {
      "cell_type": "code",
      "source": [
        "def findResult() :\n",
        "    result = None\n",
        "    for x in txconsumer:\n",
        "        transaction = x.value\n",
        "        signature = gen_signature(transaction['txid'], transaction['payer'], transaction['payee'], transaction['amount'], TOKEN)\n",
        "\n",
        "        print(\"txid:\", transaction['txid'], )\n",
        "        print(\"payer:\", transaction['payer'])\n",
        "        print(\"payee:\", transaction['payee'])\n",
        "        print(\"amount:\", transaction['amount'])\n",
        "        print(\"signature:\", signature)\n",
        "\n",
        "        submit = {\n",
        "            'vid': VID,\n",
        "            'txid': transaction['txid'],\n",
        "            'signature': signature\n",
        "        }\n",
        "\n",
        "        producer.send('submit', serialize(submitschema, submit))\n",
        "\n",
        "        for x in resultconsumer:\n",
        "            if transaction['txid'] == x.value['txid']:\n",
        "                return x.value"
      ],
      "metadata": {
        "id": "Fxt8lMsfxIha"
      },
      "id": "Fxt8lMsfxIha",
      "execution_count": 31,
      "outputs": []
    },
    {
      "cell_type": "code",
      "source": [
        "print(\"result:\", findResult())"
      ],
      "metadata": {
        "colab": {
          "base_uri": "https://localhost:8080/"
        },
        "id": "ZZ1C5CDjswkg",
        "outputId": "c9ff14a4-0f09-47d2-dfc3-31b5e7388dc2"
      },
      "id": "ZZ1C5CDjswkg",
      "execution_count": 32,
      "outputs": [
        {
          "output_type": "stream",
          "name": "stdout",
          "text": [
            "txid: TX00818\n",
            "payer: A97418\n",
            "payee: A46843\n",
            "amount: 303\n",
            "signature: b492ed3936d146b6feb7b27f2e4111b2\n",
            "result: {'timestamp': 1711440064, 'vid': 'V010948', 'txid': 'TX00818', 'checksum': '13b8eddd8e3caeb51612ce9bb0e6823a', 'code': 200, 'message': 'Confirm'}\n"
          ]
        }
      ]
    }
  ],
  "metadata": {
    "kernelspec": {
      "display_name": "Python 3 (ipykernel)",
      "language": "python",
      "name": "python3"
    },
    "language_info": {
      "codemirror_mode": {
        "name": "ipython",
        "version": 3
      },
      "file_extension": ".py",
      "mimetype": "text/x-python",
      "name": "python",
      "nbconvert_exporter": "python",
      "pygments_lexer": "ipython3",
      "version": "3.9.13"
    },
    "colab": {
      "provenance": []
    }
  },
  "nbformat": 4,
  "nbformat_minor": 5
}